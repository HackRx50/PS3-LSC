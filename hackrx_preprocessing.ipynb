{
  "cells": [
    {
      "cell_type": "markdown",
      "metadata": {
        "colab_type": "text",
        "id": "view-in-github"
      },
      "source": [
        "<a href=\"https://colab.research.google.com/github/SaahilShaikh17/Forgery-Detection-Hackrx/blob/main/hackrx_preprocessing.ipynb\" target=\"_parent\"><img src=\"https://colab.research.google.com/assets/colab-badge.svg\" alt=\"Open In Colab\"/></a>"
      ]
    },
    {
      "cell_type": "code",
      "execution_count": 1,
      "metadata": {
        "id": "t3ZkkHrZA_yd"
      },
      "outputs": [
        {
          "name": "stdout",
          "output_type": "stream",
          "text": [
            "WARNING:tensorflow:From c:\\Users\\Saahil\\AppData\\Local\\Programs\\Python\\Python311\\Lib\\site-packages\\keras\\src\\losses.py:2976: The name tf.losses.sparse_softmax_cross_entropy is deprecated. Please use tf.compat.v1.losses.sparse_softmax_cross_entropy instead.\n",
            "\n"
          ]
        },
        {
          "ename": "ModuleNotFoundError",
          "evalue": "No module named 'google.colab'",
          "output_type": "error",
          "traceback": [
            "\u001b[1;31m---------------------------------------------------------------------------\u001b[0m",
            "\u001b[1;31mModuleNotFoundError\u001b[0m                       Traceback (most recent call last)",
            "Cell \u001b[1;32mIn[1], line 11\u001b[0m\n\u001b[0;32m      8\u001b[0m \u001b[38;5;28;01mfrom\u001b[39;00m \u001b[38;5;21;01mtensorflow\u001b[39;00m\u001b[38;5;21;01m.\u001b[39;00m\u001b[38;5;21;01mkeras\u001b[39;00m\u001b[38;5;21;01m.\u001b[39;00m\u001b[38;5;21;01mapplications\u001b[39;00m \u001b[38;5;28;01mimport\u001b[39;00m ResNet50\n\u001b[0;32m      9\u001b[0m \u001b[38;5;28;01mfrom\u001b[39;00m \u001b[38;5;21;01mtensorflow\u001b[39;00m\u001b[38;5;21;01m.\u001b[39;00m\u001b[38;5;21;01mkeras\u001b[39;00m\u001b[38;5;21;01m.\u001b[39;00m\u001b[38;5;21;01mapplications\u001b[39;00m\u001b[38;5;21;01m.\u001b[39;00m\u001b[38;5;21;01mresnet50\u001b[39;00m \u001b[38;5;28;01mimport\u001b[39;00m preprocess_input\n\u001b[1;32m---> 11\u001b[0m \u001b[38;5;28;01mfrom\u001b[39;00m \u001b[38;5;21;01mgoogle\u001b[39;00m\u001b[38;5;21;01m.\u001b[39;00m\u001b[38;5;21;01mcolab\u001b[39;00m \u001b[38;5;28;01mimport\u001b[39;00m drive\n",
            "\u001b[1;31mModuleNotFoundError\u001b[0m: No module named 'google.colab'"
          ]
        }
      ],
      "source": [
        "import cv2\n",
        "import os\n",
        "import numpy as np\n",
        "\n",
        "import tensorflow as tf\n",
        "from tensorflow.keras.preprocessing.image import ImageDataGenerator\n",
        "from tensorflow.keras import layers, models, optimizers\n",
        "from tensorflow.keras.applications import ResNet50\n",
        "from tensorflow.keras.applications.resnet50 import preprocess_input\n",
        "\n",
        "from google.colab import drive"
      ]
    },
    {
      "cell_type": "code",
      "execution_count": 17,
      "metadata": {
        "colab": {
          "base_uri": "https://localhost:8080/"
        },
        "id": "Bm3ivN7yBe0I",
        "outputId": "8c29a57e-8bd2-4596-8a32-4e145c85396c"
      },
      "outputs": [
        {
          "name": "stdout",
          "output_type": "stream",
          "text": [
            "Mounted at /content/drive\n"
          ]
        }
      ],
      "source": [
        "# Mount the Google Drive\n",
        "drive.mount('/content/drive',force_remount=True)\n",
        "\n",
        "# Define paths for genuine and forged folders in your Google Drive\n",
        "base_dir = '/content/drive/My Drive/Bajaj-HackRX/datasets'\n",
        "\n",
        "\n",
        "forged_dir = os.path.join(base_dir, 'forged')\n",
        "genuine_dir = os.path.join(base_dir, 'genuine')\n",
        "\n",
        "preprocessed_forged_dir = os.path.join(base_dir, 'preprocessed_forged')\n",
        "preprocessed_genuine_dir = os.path.join(base_dir, 'preprocessed_genuine')\n",
        "\n",
        "augmented_forged_dir = os.path.join(base_dir, 'augmented_forged')\n",
        "augmented_genuine_dir = os.path.join(base_dir, 'augmented_genuine')\n",
        "\n",
        "# Create base output directories if they don't exist\n",
        "os.makedirs(preprocessed_forged_dir, exist_ok=True)\n",
        "os.makedirs(preprocessed_genuine_dir, exist_ok=True)\n",
        "os.makedirs(augmented_forged_dir, exist_ok=True) # Augemented forged dir\n",
        "os.makedirs(augmented_genuine_dir, exist_ok=True) # Augemented genuine dir"
      ]
    },
    {
      "cell_type": "code",
      "execution_count": null,
      "metadata": {
        "colab": {
          "base_uri": "https://localhost:8080/",
          "height": 35
        },
        "id": "--HoWBbdBz2O",
        "outputId": "4b9c9bc0-293f-47fa-dbdd-84bc175e0c3e"
      },
      "outputs": [
        {
          "data": {
            "application/vnd.google.colaboratory.intrinsic+json": {
              "type": "string"
            },
            "text/plain": [
              "'\\nusing 2048x2048 so that all images have the same dimensions, making it easier\\nfor further preprocessing and model training\\n'"
            ]
          },
          "execution_count": 3,
          "metadata": {},
          "output_type": "execute_result"
        }
      ],
      "source": [
        "# Parameters for resizing\n",
        "resize_dims = (2048, 2048)\n",
        "'''\n",
        "using 2048x2048 so that all images have the same dimensions, making it easier\n",
        "for further preprocessing and model training\n",
        "'''"
      ]
    },
    {
      "cell_type": "code",
      "execution_count": null,
      "metadata": {
        "id": "VMtrquilCSfK"
      },
      "outputs": [],
      "source": [
        "# Function to preprocess an image\n",
        "def preprocess_image(image_path):\n",
        "    # Load the image\n",
        "    image = cv2.imread(image_path, cv2.IMREAD_COLOR)\n",
        "\n",
        "    if image is None:\n",
        "        print(f\"Failed to load image {image_path}\")\n",
        "        return None\n",
        "\n",
        "    # Rescaling: Resize the image\n",
        "    image_resized = cv2.resize(image, resize_dims, interpolation=cv2.INTER_LINEAR)\n",
        "\n",
        "    # Denoising: Use Bilateral filtering (you can change to Gaussian or Median if needed)\n",
        "    image_denoised = cv2.bilateralFilter(image_resized, d=9, sigmaColor=75, sigmaSpace=75)\n",
        "\n",
        "    ''' The commented code is to denoise and adjust the contrast the image '''\n",
        "    # # Contrast Adjustment: Histogram Equalization (convert to grayscale first)\n",
        "    # image_gray = cv2.cvtColor(image_denoised, cv2.COLOR_BGR2GRAY)\n",
        "    # image_equalized = cv2.equalizeHist(image_gray)\n",
        "\n",
        "    # Convert back to BGR format\n",
        "    # image_preprocessed = cv2.cvtColor(image_equalized, cv2.COLOR_GRAY2BGR)\n",
        "\n",
        "    return image_denoised"
      ]
    },
    {
      "cell_type": "code",
      "execution_count": null,
      "metadata": {
        "colab": {
          "base_uri": "https://localhost:8080/"
        },
        "id": "O09eOYihG7qJ",
        "outputId": "d34ef416-b064-4845-894f-557c26148bfe"
      },
      "outputs": [
        {
          "name": "stdout",
          "output_type": "stream",
          "text": [
            "Saved preprocessed image: /content/drive/My Drive/Bajaj-HackRX/datasets/preprocessed_forged/./forged-type01-004p.tif\n",
            "Saved preprocessed image: /content/drive/My Drive/Bajaj-HackRX/datasets/preprocessed_forged/./forged-type01-002p.tif\n",
            "Saved preprocessed image: /content/drive/My Drive/Bajaj-HackRX/datasets/preprocessed_forged/./forged-type01-007p.tif\n",
            "Saved preprocessed image: /content/drive/My Drive/Bajaj-HackRX/datasets/preprocessed_forged/./forged-type01-003p.tif\n",
            "Saved preprocessed image: /content/drive/My Drive/Bajaj-HackRX/datasets/preprocessed_forged/./forged-type01-009p.tif\n",
            "Saved preprocessed image: /content/drive/My Drive/Bajaj-HackRX/datasets/preprocessed_forged/./forged-type01-008p.tif\n",
            "Saved preprocessed image: /content/drive/My Drive/Bajaj-HackRX/datasets/preprocessed_forged/./forged-type01-001p.tif\n",
            "Saved preprocessed image: /content/drive/My Drive/Bajaj-HackRX/datasets/preprocessed_forged/./forged-type02-008p.tif\n",
            "Saved preprocessed image: /content/drive/My Drive/Bajaj-HackRX/datasets/preprocessed_forged/./forged-type01-005p.tif\n",
            "Saved preprocessed image: /content/drive/My Drive/Bajaj-HackRX/datasets/preprocessed_forged/./forged-type02-006p.tif\n",
            "Saved preprocessed image: /content/drive/My Drive/Bajaj-HackRX/datasets/preprocessed_forged/./forged-type02-010p.tif\n",
            "Saved preprocessed image: /content/drive/My Drive/Bajaj-HackRX/datasets/preprocessed_forged/./forged-type01-006p.tif\n",
            "Saved preprocessed image: /content/drive/My Drive/Bajaj-HackRX/datasets/preprocessed_forged/./forged-type02-011p.tif\n",
            "Saved preprocessed image: /content/drive/My Drive/Bajaj-HackRX/datasets/preprocessed_forged/./forged-type02-004p.tif\n",
            "Saved preprocessed image: /content/drive/My Drive/Bajaj-HackRX/datasets/preprocessed_forged/./forged-type02-007p.tif\n",
            "Saved preprocessed image: /content/drive/My Drive/Bajaj-HackRX/datasets/preprocessed_forged/./forged-type02-005p.tif\n",
            "Saved preprocessed image: /content/drive/My Drive/Bajaj-HackRX/datasets/preprocessed_forged/./forged-type02-003p.tif\n",
            "Saved preprocessed image: /content/drive/My Drive/Bajaj-HackRX/datasets/preprocessed_forged/./forged-type02-009p.tif\n",
            "Saved preprocessed image: /content/drive/My Drive/Bajaj-HackRX/datasets/preprocessed_forged/./forged-type02-002p.tif\n",
            "Saved preprocessed image: /content/drive/My Drive/Bajaj-HackRX/datasets/preprocessed_forged/./forged-type02-012p.tif\n",
            "Saved preprocessed image: /content/drive/My Drive/Bajaj-HackRX/datasets/preprocessed_forged/./forged-type02-001p.tif\n",
            "Saved preprocessed image: /content/drive/My Drive/Bajaj-HackRX/datasets/preprocessed_genuine/type01/type01b/genuine-type01b-010p.png\n",
            "Saved preprocessed image: /content/drive/My Drive/Bajaj-HackRX/datasets/preprocessed_genuine/type01/type01b/genuine-type01b-019p.png\n",
            "Saved preprocessed image: /content/drive/My Drive/Bajaj-HackRX/datasets/preprocessed_genuine/type01/type01b/genuine-type01b-016p.png\n",
            "Saved preprocessed image: /content/drive/My Drive/Bajaj-HackRX/datasets/preprocessed_genuine/type01/type01b/genuine-type01b-013p.png\n",
            "Saved preprocessed image: /content/drive/My Drive/Bajaj-HackRX/datasets/preprocessed_genuine/type01/type01b/genuine-type01b-020p.png\n",
            "Saved preprocessed image: /content/drive/My Drive/Bajaj-HackRX/datasets/preprocessed_genuine/type01/type01b/genuine-type01b-009p.png\n",
            "Saved preprocessed image: /content/drive/My Drive/Bajaj-HackRX/datasets/preprocessed_genuine/type01/type01b/genuine-type01b-003p.png\n",
            "Saved preprocessed image: /content/drive/My Drive/Bajaj-HackRX/datasets/preprocessed_genuine/type01/type01b/genuine-type01b-007p.png\n",
            "Saved preprocessed image: /content/drive/My Drive/Bajaj-HackRX/datasets/preprocessed_genuine/type01/type01b/genuine-type01b-002p.png\n",
            "Saved preprocessed image: /content/drive/My Drive/Bajaj-HackRX/datasets/preprocessed_genuine/type01/type01b/genuine-type01b-001p.png\n",
            "Saved preprocessed image: /content/drive/My Drive/Bajaj-HackRX/datasets/preprocessed_genuine/type01/type01b/genuine-type01b-018p.png\n",
            "Saved preprocessed image: /content/drive/My Drive/Bajaj-HackRX/datasets/preprocessed_genuine/type01/type01b/genuine-type01b-006p.png\n",
            "Saved preprocessed image: /content/drive/My Drive/Bajaj-HackRX/datasets/preprocessed_genuine/type01/type01b/genuine-type01b-008p.png\n",
            "Saved preprocessed image: /content/drive/My Drive/Bajaj-HackRX/datasets/preprocessed_genuine/type01/type01b/genuine-type01b-011p.png\n",
            "Saved preprocessed image: /content/drive/My Drive/Bajaj-HackRX/datasets/preprocessed_genuine/type01/type01b/genuine-type01b-017p.png\n",
            "Saved preprocessed image: /content/drive/My Drive/Bajaj-HackRX/datasets/preprocessed_genuine/type01/type01b/genuine-type01b-005p.png\n",
            "Saved preprocessed image: /content/drive/My Drive/Bajaj-HackRX/datasets/preprocessed_genuine/type01/type01b/genuine-type01b-004p.png\n",
            "Saved preprocessed image: /content/drive/My Drive/Bajaj-HackRX/datasets/preprocessed_genuine/type01/type01b/genuine-type01b-015p.png\n",
            "Saved preprocessed image: /content/drive/My Drive/Bajaj-HackRX/datasets/preprocessed_genuine/type01/type01b/genuine-type01b-014p.png\n",
            "Saved preprocessed image: /content/drive/My Drive/Bajaj-HackRX/datasets/preprocessed_genuine/type01/type01b/genuine-type01b-012p.png\n",
            "Saved preprocessed image: /content/drive/My Drive/Bajaj-HackRX/datasets/preprocessed_genuine/type01/type01a/genuine-type01a-008p.png\n",
            "Saved preprocessed image: /content/drive/My Drive/Bajaj-HackRX/datasets/preprocessed_genuine/type01/type01a/genuine-type01a-028p.png\n",
            "Saved preprocessed image: /content/drive/My Drive/Bajaj-HackRX/datasets/preprocessed_genuine/type01/type01a/genuine-type01a-023p.png\n",
            "Saved preprocessed image: /content/drive/My Drive/Bajaj-HackRX/datasets/preprocessed_genuine/type01/type01a/genuine-type01a-007p.png\n",
            "Saved preprocessed image: /content/drive/My Drive/Bajaj-HackRX/datasets/preprocessed_genuine/type01/type01a/genuine-type01a-025p.png\n",
            "Saved preprocessed image: /content/drive/My Drive/Bajaj-HackRX/datasets/preprocessed_genuine/type01/type01a/genuine-type01a-020p.png\n",
            "Saved preprocessed image: /content/drive/My Drive/Bajaj-HackRX/datasets/preprocessed_genuine/type01/type01a/genuine-type01a-021p.png\n",
            "Saved preprocessed image: /content/drive/My Drive/Bajaj-HackRX/datasets/preprocessed_genuine/type01/type01a/genuine-type01a-014p.png\n",
            "Saved preprocessed image: /content/drive/My Drive/Bajaj-HackRX/datasets/preprocessed_genuine/type01/type01a/genuine-type01a-019p.png\n",
            "Saved preprocessed image: /content/drive/My Drive/Bajaj-HackRX/datasets/preprocessed_genuine/type01/type01a/genuine-type01a-016p.png\n",
            "Saved preprocessed image: /content/drive/My Drive/Bajaj-HackRX/datasets/preprocessed_genuine/type01/type01a/genuine-type01a-026p.png\n",
            "Saved preprocessed image: /content/drive/My Drive/Bajaj-HackRX/datasets/preprocessed_genuine/type01/type01a/genuine-type01a-011p.png\n",
            "Saved preprocessed image: /content/drive/My Drive/Bajaj-HackRX/datasets/preprocessed_genuine/type01/type01a/genuine-type01a-027p.png\n",
            "Saved preprocessed image: /content/drive/My Drive/Bajaj-HackRX/datasets/preprocessed_genuine/type01/type01a/genuine-type01a-018p.png\n",
            "Saved preprocessed image: /content/drive/My Drive/Bajaj-HackRX/datasets/preprocessed_genuine/type01/type01a/genuine-type01a-029p.png\n",
            "Saved preprocessed image: /content/drive/My Drive/Bajaj-HackRX/datasets/preprocessed_genuine/type01/type01a/genuine-type01a-006p.png\n",
            "Saved preprocessed image: /content/drive/My Drive/Bajaj-HackRX/datasets/preprocessed_genuine/type01/type01a/genuine-type01a-001p.png\n",
            "Saved preprocessed image: /content/drive/My Drive/Bajaj-HackRX/datasets/preprocessed_genuine/type01/type01a/genuine-type01a-013p.png\n",
            "Saved preprocessed image: /content/drive/My Drive/Bajaj-HackRX/datasets/preprocessed_genuine/type01/type01a/genuine-type01a-012p.png\n",
            "Saved preprocessed image: /content/drive/My Drive/Bajaj-HackRX/datasets/preprocessed_genuine/type01/type01a/genuine-type01a-010p.png\n",
            "Saved preprocessed image: /content/drive/My Drive/Bajaj-HackRX/datasets/preprocessed_genuine/type01/type01a/genuine-type01a-030p.png\n",
            "Saved preprocessed image: /content/drive/My Drive/Bajaj-HackRX/datasets/preprocessed_genuine/type01/type01a/genuine-type01a-022p.png\n",
            "Saved preprocessed image: /content/drive/My Drive/Bajaj-HackRX/datasets/preprocessed_genuine/type01/type01a/genuine-type01a-024p.png\n",
            "Saved preprocessed image: /content/drive/My Drive/Bajaj-HackRX/datasets/preprocessed_genuine/type01/type01a/genuine-type01a-015p.png\n",
            "Saved preprocessed image: /content/drive/My Drive/Bajaj-HackRX/datasets/preprocessed_genuine/type01/type01a/genuine-type01a-005p.png\n",
            "Saved preprocessed image: /content/drive/My Drive/Bajaj-HackRX/datasets/preprocessed_genuine/type01/type01a/genuine-type01a-002p.png\n",
            "Saved preprocessed image: /content/drive/My Drive/Bajaj-HackRX/datasets/preprocessed_genuine/type01/type01a/genuine-type01a-004p.png\n",
            "Saved preprocessed image: /content/drive/My Drive/Bajaj-HackRX/datasets/preprocessed_genuine/type01/type01a/genuine-type01a-009p.png\n",
            "Saved preprocessed image: /content/drive/My Drive/Bajaj-HackRX/datasets/preprocessed_genuine/type01/type01a/genuine-type01a-003p.png\n",
            "Saved preprocessed image: /content/drive/My Drive/Bajaj-HackRX/datasets/preprocessed_genuine/type01/type01a/genuine-type01a-017p.png\n",
            "Saved preprocessed image: /content/drive/My Drive/Bajaj-HackRX/datasets/preprocessed_genuine/type02/genuine-type02-013p.png\n",
            "Saved preprocessed image: /content/drive/My Drive/Bajaj-HackRX/datasets/preprocessed_genuine/type02/genuine-type02-027p.png\n",
            "Saved preprocessed image: /content/drive/My Drive/Bajaj-HackRX/datasets/preprocessed_genuine/type02/genuine-type02-014p.png\n",
            "Saved preprocessed image: /content/drive/My Drive/Bajaj-HackRX/datasets/preprocessed_genuine/type02/genuine-type02-032p.png\n",
            "Saved preprocessed image: /content/drive/My Drive/Bajaj-HackRX/datasets/preprocessed_genuine/type02/genuine-type02-034p.png\n",
            "Saved preprocessed image: /content/drive/My Drive/Bajaj-HackRX/datasets/preprocessed_genuine/type02/genuine-type02-033p.png\n",
            "Saved preprocessed image: /content/drive/My Drive/Bajaj-HackRX/datasets/preprocessed_genuine/type02/genuine-type02-025p.png\n",
            "Saved preprocessed image: /content/drive/My Drive/Bajaj-HackRX/datasets/preprocessed_genuine/type02/genuine-type02-029p.png\n",
            "Saved preprocessed image: /content/drive/My Drive/Bajaj-HackRX/datasets/preprocessed_genuine/type02/genuine-type02-005p.png\n",
            "Saved preprocessed image: /content/drive/My Drive/Bajaj-HackRX/datasets/preprocessed_genuine/type02/genuine-type02-007p.png\n",
            "Saved preprocessed image: /content/drive/My Drive/Bajaj-HackRX/datasets/preprocessed_genuine/type02/genuine-type02-020p.png\n",
            "Saved preprocessed image: /content/drive/My Drive/Bajaj-HackRX/datasets/preprocessed_genuine/type02/genuine-type02-024p.png\n",
            "Saved preprocessed image: /content/drive/My Drive/Bajaj-HackRX/datasets/preprocessed_genuine/type02/genuine-type02-021p.png\n",
            "Saved preprocessed image: /content/drive/My Drive/Bajaj-HackRX/datasets/preprocessed_genuine/type02/genuine-type02-017p.png\n",
            "Saved preprocessed image: /content/drive/My Drive/Bajaj-HackRX/datasets/preprocessed_genuine/type02/genuine-type02-002p.png\n",
            "Saved preprocessed image: /content/drive/My Drive/Bajaj-HackRX/datasets/preprocessed_genuine/type02/genuine-type02-019p.png\n",
            "Saved preprocessed image: /content/drive/My Drive/Bajaj-HackRX/datasets/preprocessed_genuine/type02/genuine-type02-038p.png\n",
            "Saved preprocessed image: /content/drive/My Drive/Bajaj-HackRX/datasets/preprocessed_genuine/type02/genuine-type02-026p.png\n",
            "Saved preprocessed image: /content/drive/My Drive/Bajaj-HackRX/datasets/preprocessed_genuine/type02/genuine-type02-006p.png\n",
            "Saved preprocessed image: /content/drive/My Drive/Bajaj-HackRX/datasets/preprocessed_genuine/type02/genuine-type02-008p.png\n",
            "Saved preprocessed image: /content/drive/My Drive/Bajaj-HackRX/datasets/preprocessed_genuine/type02/genuine-type02-028p.png\n",
            "Saved preprocessed image: /content/drive/My Drive/Bajaj-HackRX/datasets/preprocessed_genuine/type02/genuine-type02-011p.png\n",
            "Saved preprocessed image: /content/drive/My Drive/Bajaj-HackRX/datasets/preprocessed_genuine/type02/genuine-type02-018p.png\n",
            "Saved preprocessed image: /content/drive/My Drive/Bajaj-HackRX/datasets/preprocessed_genuine/type02/genuine-type02-037p.png\n",
            "Saved preprocessed image: /content/drive/My Drive/Bajaj-HackRX/datasets/preprocessed_genuine/type02/genuine-type02-003p.png\n",
            "Saved preprocessed image: /content/drive/My Drive/Bajaj-HackRX/datasets/preprocessed_genuine/type02/genuine-type02-035p.png\n",
            "Saved preprocessed image: /content/drive/My Drive/Bajaj-HackRX/datasets/preprocessed_genuine/type02/genuine-type02-023p.png\n",
            "Saved preprocessed image: /content/drive/My Drive/Bajaj-HackRX/datasets/preprocessed_genuine/type02/genuine-type02-030p.png\n",
            "Saved preprocessed image: /content/drive/My Drive/Bajaj-HackRX/datasets/preprocessed_genuine/type02/genuine-type02-039p.png\n",
            "Saved preprocessed image: /content/drive/My Drive/Bajaj-HackRX/datasets/preprocessed_genuine/type02/genuine-type02-001p.png\n",
            "Saved preprocessed image: /content/drive/My Drive/Bajaj-HackRX/datasets/preprocessed_genuine/type02/genuine-type02-010p.png\n",
            "Saved preprocessed image: /content/drive/My Drive/Bajaj-HackRX/datasets/preprocessed_genuine/type02/genuine-type02-036p.png\n",
            "Saved preprocessed image: /content/drive/My Drive/Bajaj-HackRX/datasets/preprocessed_genuine/type02/genuine-type02-031p.png\n",
            "Saved preprocessed image: /content/drive/My Drive/Bajaj-HackRX/datasets/preprocessed_genuine/type02/genuine-type02-040p.png\n",
            "Saved preprocessed image: /content/drive/My Drive/Bajaj-HackRX/datasets/preprocessed_genuine/type02/genuine-type02-012p.png\n",
            "Saved preprocessed image: /content/drive/My Drive/Bajaj-HackRX/datasets/preprocessed_genuine/type02/genuine-type02-009p.png\n",
            "Saved preprocessed image: /content/drive/My Drive/Bajaj-HackRX/datasets/preprocessed_genuine/type02/genuine-type02-015p.png\n",
            "Saved preprocessed image: /content/drive/My Drive/Bajaj-HackRX/datasets/preprocessed_genuine/type02/genuine-type02-004p.png\n",
            "Saved preprocessed image: /content/drive/My Drive/Bajaj-HackRX/datasets/preprocessed_genuine/type02/genuine-type02-016p.png\n",
            "Saved preprocessed image: /content/drive/My Drive/Bajaj-HackRX/datasets/preprocessed_genuine/type02/genuine-type02-022p.png\n"
          ]
        }
      ],
      "source": [
        "# Function to process images in a directory and save to corresponding output folder\n",
        "def process_images(input_dir, output_dir):\n",
        "    for root, dirs, files in os.walk(input_dir):\n",
        "        # Create corresponding output directories\n",
        "        rel_path = os.path.relpath(root, input_dir)  # Relative path from input_dir\n",
        "        output_subdir = os.path.join(output_dir, rel_path)  # Corresponding subdir in output_dir\n",
        "        os.makedirs(output_subdir, exist_ok=True)  # Create the subdir if it doesn't exist\n",
        "\n",
        "        for file in files:\n",
        "            if file.endswith(('.tif', '.png')):  # Only process .tif and .png images\n",
        "                input_image_path = os.path.join(root, file)\n",
        "\n",
        "                # Modify filename by appending 'p' before the extension\n",
        "                file_name, file_ext = os.path.splitext(file)\n",
        "                new_file_name = f\"{file_name}p{file_ext}\"\n",
        "\n",
        "                output_image_path = os.path.join(output_subdir, new_file_name)\n",
        "\n",
        "                # Preprocess and save the image\n",
        "                preprocessed_image = preprocess_image(input_image_path)\n",
        "                if preprocessed_image is not None:\n",
        "                    cv2.imwrite(output_image_path, preprocessed_image)\n",
        "                    print(f\"Saved preprocessed image: {output_image_path}\")\n",
        "\n",
        "# Process forged images and save in preprocessed_forged with the same subfolder structure\n",
        "process_images(forged_dir, preprocessed_forged_dir)\n",
        "\n",
        "# Process genuine images and save in preprocessed_genuine with the same subfolder structure\n",
        "process_images(genuine_dir, preprocessed_genuine_dir)"
      ]
    },
    {
      "cell_type": "markdown",
      "metadata": {
        "id": "_3GObWNVikv0"
      },
      "source": [
        "# <b> Forged Augmentation"
      ]
    },
    {
      "cell_type": "code",
      "execution_count": null,
      "metadata": {
        "id": "vTIu0iD1kGpp"
      },
      "outputs": [],
      "source": [
        "# import os\n",
        "# from PIL import Image\n",
        "# import numpy as np\n",
        "\n",
        "# def load_images_from_folder(folder_path):\n",
        "#     images = []\n",
        "#     for filename in os.listdir(folder_path):\n",
        "#         img_path = os.path.join(folder_path, filename)\n",
        "#         img = Image.open(img_path)\n",
        "#         images.append(np.array(img))\n",
        "#     return images\n",
        "\n",
        "# preprocessed_images = load_images_from_folder('https://drive.google.com/drive/folders/1N-CVvCMGkkW4iA5qjo9hT3gFpq9Ala1H?usp=drive_link')\n"
      ]
    },
    {
      "cell_type": "markdown",
      "metadata": {
        "id": "ll2x_5fjkPiI"
      },
      "source": [
        "##Set Up Data Augmentation"
      ]
    },
    {
      "cell_type": "code",
      "execution_count": null,
      "metadata": {
        "id": "yfPPuovCkLf1"
      },
      "outputs": [],
      "source": [
        "from tensorflow.keras.preprocessing.image import ImageDataGenerator"
      ]
    },
    {
      "cell_type": "markdown",
      "metadata": {
        "id": "MEGQduGxkT-T"
      },
      "source": [
        "##Apply Augmentation and Save Images"
      ]
    },
    {
      "cell_type": "code",
      "execution_count": null,
      "metadata": {
        "id": "0AAWIsKbkTyK"
      },
      "outputs": [],
      "source": [
        "# # Create output directory if it doesn't exist\n",
        "# def augment_preprocessed_forged(input_dir, output_dir):\n",
        "#   # if not os.path.exists(output_folder):\n",
        "#   #     os.makedirs(output_folder)\n",
        "#   datagen = ImageDataGenerator(\n",
        "#         rotation_range=40,\n",
        "#         width_shift_range=0.2,\n",
        "#         height_shift_range=0.2,\n",
        "#         shear_range=0.2,\n",
        "#         zoom_range=0.2,\n",
        "#         horizontal_flip=True,\n",
        "#         fill_mode='nearest'\n",
        "#     )\n",
        "\n",
        "#   for root, dirs, files in os.walk(input_dir):\n",
        "#     rel_path = os.path.relpath(root, input_dir)  # Relative path from input_dir\n",
        "#     output_subdir = os.path.join(output_dir, rel_path)  # Corresponding subdir in output_dir\n",
        "#     os.makedirs(output_subdir, exist_ok=True)  # Create the subdir if it doesn't exist\n",
        "\n",
        "#   for file in files:\n",
        "#     file_path = os.path.join(root, file)\n",
        "#     img = Image.open(file_path)\n",
        "#     img_array = np.array(img)\n",
        "#     img_array = np.expand_dims(img_array, 0)  # Add batch dimension\n",
        "\n",
        "#     # Apply augmentation and save images\n",
        "#     for batch in datagen.flow(img_array, batch_size=1):\n",
        "#         augmented_image = batch[0].astype('uint8')  # Convert back to uint8\n",
        "#         augmented_img = Image.fromarray(augmented_image)\n",
        "\n",
        "#         # Save augmented image\n",
        "#         augmented_img_path = os.path.join(output_subdir, f'augmented_{file}')\n",
        "#         augmented_img.save(augmented_img_path)\n",
        "#         break  # Stop after saving one augmented image per original image"
      ]
    },
    {
      "cell_type": "code",
      "execution_count": null,
      "metadata": {
        "id": "u-Zo4JD_n2nt"
      },
      "outputs": [],
      "source": [
        "from tensorflow.keras.preprocessing.image import ImageDataGenerator\n",
        "from PIL import Image\n",
        "import numpy as np\n",
        "import os\n",
        "\n",
        "def augment_preprocessed_forged(input_dir, output_dir):\n",
        "    datagen = ImageDataGenerator(\n",
        "        rotation_range=40,\n",
        "        width_shift_range=0.2,\n",
        "        height_shift_range=0.2,\n",
        "        shear_range=0.2,\n",
        "        zoom_range=0.2,\n",
        "        horizontal_flip=True,\n",
        "        fill_mode='nearest'\n",
        "    )\n",
        "\n",
        "    for root, dirs, files in os.walk(input_dir):\n",
        "        rel_path = os.path.relpath(root, input_dir)  # Relative path from input_dir\n",
        "        output_subdir = os.path.join(output_dir, rel_path)  # Corresponding subdir in output_dir\n",
        "        os.makedirs(output_subdir, exist_ok=True)  # Create the subdir if it doesn't exist\n",
        "\n",
        "        for file in files:\n",
        "            file_path = os.path.join(root, file)\n",
        "            img = Image.open(file_path)\n",
        "            img_array = np.array(img)\n",
        "            img_array = np.expand_dims(img_array, 0)  # Add batch dimension\n",
        "\n",
        "            # Apply augmentation and save images\n",
        "            for batch in datagen.flow(img_array, batch_size=1):\n",
        "                augmented_image = batch[0].astype('uint8')  # Convert back to uint8\n",
        "                augmented_img = Image.fromarray(augmented_image)\n",
        "\n",
        "                # Save augmented image\n",
        "                augmented_img_path = os.path.join(output_subdir, f'augmented_{file}')\n",
        "                augmented_img.save(augmented_img_path)\n",
        "                break  # Stop after saving one augmented image per original image\n",
        "\n",
        "# Define your directories\n",
        "base_dir = '/content/drive/My Drive/Bajaj-HackRX/datasets'\n",
        "input_dir = os.path.join(base_dir, 'preprocessed_forged')\n",
        "augmented_forged_dir = os.path.join(base_dir, 'augmented_forged')\n",
        "\n",
        "# Call the function\n",
        "augment_preprocessed_forged(input_dir, augmented_forged_dir)\n"
      ]
    },
    {
      "cell_type": "code",
      "execution_count": null,
      "metadata": {
        "id": "41OfTcySm0t4"
      },
      "outputs": [],
      "source": [
        "from tensorflow.keras.preprocessing.image import ImageDataGenerator\n",
        "from PIL import Image\n",
        "import numpy as np\n",
        "import os\n",
        "\n",
        "def augment_preprocessed_forged(input_dir, output_dir):\n",
        "    datagen = ImageDataGenerator(\n",
        "        rotation_range=40,\n",
        "        width_shift_range=0.2,\n",
        "        height_shift_range=0.2,\n",
        "        shear_range=0.2,\n",
        "        zoom_range=0.2,\n",
        "        horizontal_flip=True,\n",
        "        fill_mode='nearest'\n",
        "    )\n",
        "\n",
        "    for root, dirs, files in os.walk(input_dir):\n",
        "        rel_path = os.path.relpath(root, input_dir)  # Relative path from input_dir\n",
        "        output_subdir = os.path.join(output_dir, rel_path)  # Corresponding subdir in output_dir\n",
        "        os.makedirs(output_subdir, exist_ok=True)  # Create the subdir if it doesn't exist\n",
        "\n",
        "        for file in files:\n",
        "            file_path = os.path.join(root, file)\n",
        "            img = Image.open(file_path)\n",
        "            img_array = np.array(img)\n",
        "            img_array = np.expand_dims(img_array, 0)  # Add batch dimension\n",
        "\n",
        "            # Apply augmentation and save images\n",
        "            for batch in datagen.flow(img_array, batch_size=1):\n",
        "                augmented_image = batch[0].astype('uint8')  # Convert back to uint8\n",
        "                augmented_img = Image.fromarray(augmented_image)\n",
        "\n",
        "                # Save augmented image\n",
        "                augmented_img_path = os.path.join(output_subdir, f'augmented_{file}')\n",
        "                augmented_img.save(augmented_img_path)\n",
        "                break  # Stop after saving one augmented image per original image\n",
        "\n",
        "# Define your directories\n",
        "base_dir = '/content/drive/My Drive/Bajaj-HackRX/datasets'\n",
        "input_dir_genuine = os.path.join(base_dir, 'preprocessed_genuine')\n",
        "augmented_genuine_dir = os.path.join(base_dir, 'augmented_genuine')\n",
        "\n",
        "# Call the function\n",
        "augment_preprocessed_forged(input_dir_genuine, augmented_genuine_dir)\n"
      ]
    },
    {
      "cell_type": "code",
      "execution_count": null,
      "metadata": {
        "colab": {
          "base_uri": "https://localhost:8080/"
        },
        "id": "6h0wSxwzUbe3",
        "outputId": "bb780af9-0c34-41d6-9303-1241ce0c5a69"
      },
      "outputs": [
        {
          "name": "stdout",
          "output_type": "stream",
          "text": [
            "All images have been successfully copied into Final_Genuine!\n"
          ]
        }
      ],
      "source": [
        "import shutil\n",
        "\n",
        "# Paths to the original directories\n",
        "preprocessed_genuine_path = '/content/drive/MyDrive/Bajaj-HackRX/datasets/preprocessed_genuine'\n",
        "augmented_genuine_path = '/content/drive/MyDrive/Bajaj-HackRX/datasets/augmented_genuine'\n",
        "\n",
        "# Path to the final destination directory\n",
        "final_genuine_path = '/content/drive/MyDrive/Bajaj-HackRX/datasets/Final_Data/Final_Genuine'\n",
        "\n",
        "# Create the Final_Genuine directory if it doesn't exist\n",
        "os.makedirs(final_genuine_path, exist_ok=True)\n",
        "\n",
        "# Function to copy all images from source to destination, ignoring folder structure\n",
        "def copy_images(source_dir, destination_dir):\n",
        "    for root, dirs, files in os.walk(source_dir):\n",
        "        for file in files:\n",
        "            if file.endswith(('.tif', '.png')):  # Adjust based on the image file types you have\n",
        "                # Construct full file path\n",
        "                source_file = os.path.join(root, file)\n",
        "                destination_file = os.path.join(destination_dir, file)\n",
        "\n",
        "                # Copy the file to the destination, ignore if file already exists\n",
        "                shutil.copy2(source_file, destination_file)\n",
        "\n",
        "# Copy from preprocessed_genuine\n",
        "copy_images(preprocessed_genuine_path, final_genuine_path)\n",
        "\n",
        "# Copy from augmented_genuine\n",
        "copy_images(augmented_genuine_path, final_genuine_path)\n",
        "\n",
        "print(\"All images have been successfully copied into Final_Genuine!\")\n"
      ]
    },
    {
      "cell_type": "code",
      "execution_count": null,
      "metadata": {
        "colab": {
          "base_uri": "https://localhost:8080/"
        },
        "id": "dmNuDE-cVWGr",
        "outputId": "d1a1904b-ccb6-4c9d-b385-8b58ebd7a4e4"
      },
      "outputs": [
        {
          "name": "stdout",
          "output_type": "stream",
          "text": [
            "All images have been successfully copied into Final_Forged!\n"
          ]
        }
      ],
      "source": [
        "# Paths to the original directories\n",
        "preprocessed_forged_path = '/content/drive/MyDrive/Bajaj-HackRX/datasets/preprocessed_forged'\n",
        "augmented_forged_path = '/content/drive/MyDrive/Bajaj-HackRX/datasets/augmented_forged'\n",
        "\n",
        "# Path to the final destination directory\n",
        "final_forged_path = '/content/drive/MyDrive/Bajaj-HackRX/datasets/Final_Data/Final_Forged'\n",
        "\n",
        "# Create the Final_Forged directory if it doesn't exist\n",
        "os.makedirs(final_forged_path, exist_ok=True)\n",
        "\n",
        "# Function to copy all images from source to destination, ignoring folder structure\n",
        "def copy_images(source_dir, destination_dir):\n",
        "    for root, dirs, files in os.walk(source_dir):\n",
        "        for file in files:\n",
        "            if file.endswith(('.tif', '.png')):  # Adjust based on the image file types you have\n",
        "                # Construct full file path\n",
        "                source_file = os.path.join(root, file)\n",
        "                destination_file = os.path.join(destination_dir, file)\n",
        "\n",
        "                # Copy the file to the destination, ignore if file already exists\n",
        "                shutil.copy2(source_file, destination_file)\n",
        "\n",
        "# Copy from preprocessed_forged\n",
        "copy_images(preprocessed_forged_path, final_forged_path)\n",
        "\n",
        "# Copy from augmented_forged\n",
        "copy_images(augmented_forged_path, final_forged_path)\n",
        "\n",
        "print(\"All images have been successfully copied into Final_Forged!\")"
      ]
    },
    {
      "cell_type": "markdown",
      "metadata": {
        "id": "k7r7L4v3ryt0"
      },
      "source": [
        "# <b> Train, Test split"
      ]
    },
    {
      "cell_type": "code",
      "execution_count": 23,
      "metadata": {
        "colab": {
          "base_uri": "https://localhost:8080/"
        },
        "id": "_4a_w05eeoIL",
        "outputId": "34bdf71b-7f7f-4039-fff4-e5a7bef56e94"
      },
      "outputs": [
        {
          "name": "stdout",
          "output_type": "stream",
          "text": [
            "Found 156 images belonging to 2 classes.\n",
            "Found 66 images belonging to 2 classes.\n"
          ]
        }
      ],
      "source": [
        "from tensorflow.keras.preprocessing.image import ImageDataGenerator\n",
        "\n",
        "# Image data generator with 70-30 train-test split\n",
        "datagen = ImageDataGenerator(rescale=1./255, validation_split=0.3)  # Normalize images\n",
        "base_directory = '/content/drive/My Drive/Bajaj-HackRX/datasets/Final_Data'\n",
        "# Load training set (70%)\n",
        "train_generator = datagen.flow_from_directory(\n",
        "    base_directory,\n",
        "    target_size=(224, 224),  # Resize images if needed\n",
        "    batch_size=32,\n",
        "    class_mode='categorical',  # Use 'binary' if you have 2 classes\n",
        "    subset='training'\n",
        ")\n",
        "\n",
        "# Load test set (30%)\n",
        "test_generator = datagen.flow_from_directory(\n",
        "    base_directory,\n",
        "    target_size=(224, 224),\n",
        "    batch_size=32,\n",
        "    class_mode='categorical',\n",
        "    subset='validation'\n",
        ")\n"
      ]
    },
    {
      "cell_type": "code",
      "execution_count": 24,
      "metadata": {
        "id": "1MhpLXDMesWY"
      },
      "outputs": [],
      "source": [
        "from tensorflow.keras import layers, models\n",
        "\n",
        "model = models.Sequential([\n",
        "    layers.Conv2D(32, (3, 3), activation='relu', input_shape=(224, 224, 3)),\n",
        "    layers.MaxPooling2D((2, 2)),\n",
        "    layers.Conv2D(64, (3, 3), activation='relu'),\n",
        "    layers.MaxPooling2D((2, 2)),\n",
        "    layers.Conv2D(128, (3, 3), activation='relu'),\n",
        "    layers.MaxPooling2D((2, 2)),\n",
        "    layers.Flatten(),\n",
        "    layers.Dense(128, activation='relu'),\n",
        "    layers.Dense(train_generator.num_classes, activation='sigmoid')  # For multi-class classification\n",
        "])\n",
        "\n",
        "model.compile(optimizer='adam',\n",
        "              loss='binary_crossentropy',  # Use binary_crossentropy for binary classification\n",
        "              metrics=['accuracy'])\n"
      ]
    },
    {
      "cell_type": "code",
      "execution_count": 25,
      "metadata": {
        "colab": {
          "base_uri": "https://localhost:8080/"
        },
        "id": "wcueC1ybfMMc",
        "outputId": "aee872a2-1248-4629-c502-83e393eb2146"
      },
      "outputs": [
        {
          "name": "stdout",
          "output_type": "stream",
          "text": [
            "Epoch 1/20\n"
          ]
        },
        {
          "name": "stderr",
          "output_type": "stream",
          "text": [
            "/usr/local/lib/python3.10/dist-packages/keras/src/trainers/data_adapters/py_dataset_adapter.py:121: UserWarning: Your `PyDataset` class should call `super().__init__(**kwargs)` in its constructor. `**kwargs` can include `workers`, `use_multiprocessing`, `max_queue_size`. Do not pass these arguments to `fit()`, as they will be ignored.\n",
            "  self._warn_if_super_not_called()\n"
          ]
        },
        {
          "name": "stdout",
          "output_type": "stream",
          "text": [
            "\u001b[1m5/5\u001b[0m \u001b[32m━━━━━━━━━━━━━━━━━━━━\u001b[0m\u001b[37m\u001b[0m \u001b[1m33s\u001b[0m 4s/step - accuracy: 0.7991 - loss: 1.6132 - val_accuracy: 0.7879 - val_loss: 0.6927\n",
            "Epoch 2/20\n",
            "\u001b[1m5/5\u001b[0m \u001b[32m━━━━━━━━━━━━━━━━━━━━\u001b[0m\u001b[37m\u001b[0m \u001b[1m23s\u001b[0m 1s/step - accuracy: 0.8804 - loss: 0.6281 - val_accuracy: 0.8182 - val_loss: 0.4800\n",
            "Epoch 3/20\n",
            "\u001b[1m5/5\u001b[0m \u001b[32m━━━━━━━━━━━━━━━━━━━━\u001b[0m\u001b[37m\u001b[0m \u001b[1m14s\u001b[0m 1s/step - accuracy: 0.8001 - loss: 0.5102 - val_accuracy: 0.8182 - val_loss: 0.5150\n",
            "Epoch 4/20\n",
            "\u001b[1m5/5\u001b[0m \u001b[32m━━━━━━━━━━━━━━━━━━━━\u001b[0m\u001b[37m\u001b[0m \u001b[1m14s\u001b[0m 1s/step - accuracy: 0.8135 - loss: 0.4941 - val_accuracy: 0.8182 - val_loss: 0.5003\n",
            "Epoch 5/20\n",
            "\u001b[1m5/5\u001b[0m \u001b[32m━━━━━━━━━━━━━━━━━━━━\u001b[0m\u001b[37m\u001b[0m \u001b[1m14s\u001b[0m 1s/step - accuracy: 0.7927 - loss: 0.5035 - val_accuracy: 0.8182 - val_loss: 0.4843\n",
            "Epoch 6/20\n",
            "\u001b[1m5/5\u001b[0m \u001b[32m━━━━━━━━━━━━━━━━━━━━\u001b[0m\u001b[37m\u001b[0m \u001b[1m16s\u001b[0m 1s/step - accuracy: 0.8283 - loss: 0.4523 - val_accuracy: 0.8182 - val_loss: 0.5155\n",
            "Epoch 7/20\n",
            "\u001b[1m5/5\u001b[0m \u001b[32m━━━━━━━━━━━━━━━━━━━━\u001b[0m\u001b[37m\u001b[0m \u001b[1m14s\u001b[0m 1s/step - accuracy: 0.8322 - loss: 0.4586 - val_accuracy: 0.8182 - val_loss: 0.4864\n",
            "Epoch 8/20\n",
            "\u001b[1m5/5\u001b[0m \u001b[32m━━━━━━━━━━━━━━━━━━━━\u001b[0m\u001b[37m\u001b[0m \u001b[1m21s\u001b[0m 1s/step - accuracy: 0.7924 - loss: 0.4650 - val_accuracy: 0.8182 - val_loss: 0.4936\n",
            "Epoch 9/20\n",
            "\u001b[1m5/5\u001b[0m \u001b[32m━━━━━━━━━━━━━━━━━━━━\u001b[0m\u001b[37m\u001b[0m \u001b[1m20s\u001b[0m 1s/step - accuracy: 0.7994 - loss: 0.4213 - val_accuracy: 0.8182 - val_loss: 0.5366\n",
            "Epoch 10/20\n",
            "\u001b[1m5/5\u001b[0m \u001b[32m━━━━━━━━━━━━━━━━━━━━\u001b[0m\u001b[37m\u001b[0m \u001b[1m20s\u001b[0m 1s/step - accuracy: 0.8034 - loss: 0.3555 - val_accuracy: 0.7576 - val_loss: 0.6429\n",
            "Epoch 11/20\n",
            "\u001b[1m5/5\u001b[0m \u001b[32m━━━━━━━━━━━━━━━━━━━━\u001b[0m\u001b[37m\u001b[0m \u001b[1m14s\u001b[0m 1s/step - accuracy: 0.9028 - loss: 0.2654 - val_accuracy: 0.7879 - val_loss: 0.8760\n",
            "Epoch 12/20\n",
            "\u001b[1m5/5\u001b[0m \u001b[32m━━━━━━━━━━━━━━━━━━━━\u001b[0m\u001b[37m\u001b[0m \u001b[1m14s\u001b[0m 1s/step - accuracy: 0.9190 - loss: 0.1960 - val_accuracy: 0.6515 - val_loss: 1.1539\n",
            "Epoch 13/20\n",
            "\u001b[1m5/5\u001b[0m \u001b[32m━━━━━━━━━━━━━━━━━━━━\u001b[0m\u001b[37m\u001b[0m \u001b[1m22s\u001b[0m 2s/step - accuracy: 0.9470 - loss: 0.1560 - val_accuracy: 0.8333 - val_loss: 1.4222\n",
            "Epoch 14/20\n",
            "\u001b[1m5/5\u001b[0m \u001b[32m━━━━━━━━━━━━━━━━━━━━\u001b[0m\u001b[37m\u001b[0m \u001b[1m20s\u001b[0m 1s/step - accuracy: 0.9365 - loss: 0.1008 - val_accuracy: 0.5455 - val_loss: 1.8261\n",
            "Epoch 15/20\n",
            "\u001b[1m5/5\u001b[0m \u001b[32m━━━━━━━━━━━━━━━━━━━━\u001b[0m\u001b[37m\u001b[0m \u001b[1m20s\u001b[0m 1s/step - accuracy: 0.9849 - loss: 0.0686 - val_accuracy: 0.7727 - val_loss: 2.0832\n",
            "Epoch 16/20\n",
            "\u001b[1m5/5\u001b[0m \u001b[32m━━━━━━━━━━━━━━━━━━━━\u001b[0m\u001b[37m\u001b[0m \u001b[1m21s\u001b[0m 1s/step - accuracy: 0.9921 - loss: 0.0228 - val_accuracy: 0.5606 - val_loss: 1.9829\n",
            "Epoch 17/20\n",
            "\u001b[1m5/5\u001b[0m \u001b[32m━━━━━━━━━━━━━━━━━━━━\u001b[0m\u001b[37m\u001b[0m \u001b[1m19s\u001b[0m 1s/step - accuracy: 1.0000 - loss: 0.0224 - val_accuracy: 0.6212 - val_loss: 2.3271\n",
            "Epoch 18/20\n",
            "\u001b[1m5/5\u001b[0m \u001b[32m━━━━━━━━━━━━━━━━━━━━\u001b[0m\u001b[37m\u001b[0m \u001b[1m21s\u001b[0m 1s/step - accuracy: 1.0000 - loss: 0.0107 - val_accuracy: 0.6364 - val_loss: 2.7149\n",
            "Epoch 19/20\n",
            "\u001b[1m5/5\u001b[0m \u001b[32m━━━━━━━━━━━━━━━━━━━━\u001b[0m\u001b[37m\u001b[0m \u001b[1m20s\u001b[0m 1s/step - accuracy: 1.0000 - loss: 0.0017 - val_accuracy: 0.6212 - val_loss: 2.9988\n",
            "Epoch 20/20\n",
            "\u001b[1m5/5\u001b[0m \u001b[32m━━━━━━━━━━━━━━━━━━━━\u001b[0m\u001b[37m\u001b[0m \u001b[1m14s\u001b[0m 1s/step - accuracy: 1.0000 - loss: 0.0011 - val_accuracy: 0.6212 - val_loss: 3.2419\n"
          ]
        }
      ],
      "source": [
        "history = model.fit(\n",
        "    train_generator,\n",
        "    epochs=20,\n",
        "    validation_data=test_generator\n",
        ")\n"
      ]
    },
    {
      "cell_type": "code",
      "execution_count": 26,
      "metadata": {
        "colab": {
          "base_uri": "https://localhost:8080/"
        },
        "id": "8gvQTXe5fQAY",
        "outputId": "33bea5b2-fa8e-48af-de94-a4d6cbe7d75b"
      },
      "outputs": [
        {
          "name": "stdout",
          "output_type": "stream",
          "text": [
            "\u001b[1m3/3\u001b[0m \u001b[32m━━━━━━━━━━━━━━━━━━━━\u001b[0m\u001b[37m\u001b[0m \u001b[1m5s\u001b[0m 1s/step - accuracy: 0.6231 - loss: 3.6474\n",
            "Test accuracy: 0.6212121248245239\n"
          ]
        }
      ],
      "source": [
        "test_loss, test_acc = model.evaluate(test_generator)\n",
        "print(f\"Test accuracy: {test_acc}\")\n"
      ]
    },
    {
      "cell_type": "code",
      "execution_count": 27,
      "metadata": {
        "id": "LxMOpZtpkT1E"
      },
      "outputs": [],
      "source": [
        "from tensorflow.keras import regularizers\n",
        "\n",
        "model = models.Sequential([\n",
        "    layers.Conv2D(32, (3, 3), activation='relu', input_shape=(224, 224, 3)),\n",
        "    layers.MaxPooling2D((2, 2)),\n",
        "    layers.Conv2D(64, (3, 3), activation='relu'),\n",
        "    layers.MaxPooling2D((2, 2)),\n",
        "    layers.Conv2D(128, (3, 3), activation='relu'),\n",
        "    layers.MaxPooling2D((2, 2)),\n",
        "\n",
        "    # Add dropout to prevent overfitting\n",
        "    layers.Dropout(0.5),\n",
        "\n",
        "    layers.Flatten(),\n",
        "\n",
        "    layers.Dense(128, activation='relu', kernel_regularizer=regularizers.l2(0.001)),  # L2 regularization\n",
        "    layers.Dropout(0.5),\n",
        "    layers.Dense(train_generator.num_classes, activation='sigmoid')\n",
        "])\n",
        "\n",
        "model.compile(optimizer='adam',\n",
        "              loss='binary_crossentropy',\n",
        "              metrics=['accuracy'])\n"
      ]
    },
    {
      "cell_type": "code",
      "execution_count": 28,
      "metadata": {
        "colab": {
          "base_uri": "https://localhost:8080/"
        },
        "id": "2Jr-R_IdsGnv",
        "outputId": "4522d90a-5831-4158-b201-c71a2dbf56a2"
      },
      "outputs": [
        {
          "name": "stdout",
          "output_type": "stream",
          "text": [
            "Epoch 1/50\n",
            "\u001b[1m5/5\u001b[0m \u001b[32m━━━━━━━━━━━━━━━━━━━━\u001b[0m\u001b[37m\u001b[0m \u001b[1m26s\u001b[0m 3s/step - accuracy: 0.6495 - loss: 1.5311 - val_accuracy: 0.8182 - val_loss: 0.7068\n",
            "Epoch 2/50\n",
            "\u001b[1m5/5\u001b[0m \u001b[32m━━━━━━━━━━━━━━━━━━━━\u001b[0m\u001b[37m\u001b[0m \u001b[1m31s\u001b[0m 1s/step - accuracy: 0.8091 - loss: 0.7338 - val_accuracy: 0.8182 - val_loss: 0.7115\n",
            "Epoch 3/50\n",
            "\u001b[1m5/5\u001b[0m \u001b[32m━━━━━━━━━━━━━━━━━━━━\u001b[0m\u001b[37m\u001b[0m \u001b[1m14s\u001b[0m 1s/step - accuracy: 0.7919 - loss: 0.7441 - val_accuracy: 0.8182 - val_loss: 0.7314\n",
            "Epoch 4/50\n",
            "\u001b[1m5/5\u001b[0m \u001b[32m━━━━━━━━━━━━━━━━━━━━\u001b[0m\u001b[37m\u001b[0m \u001b[1m14s\u001b[0m 1s/step - accuracy: 0.7883 - loss: 0.7701 - val_accuracy: 0.8182 - val_loss: 0.6933\n",
            "Epoch 5/50\n",
            "\u001b[1m5/5\u001b[0m \u001b[32m━━━━━━━━━━━━━━━━━━━━\u001b[0m\u001b[37m\u001b[0m \u001b[1m20s\u001b[0m 1s/step - accuracy: 0.7869 - loss: 0.7130 - val_accuracy: 0.8182 - val_loss: 0.6769\n",
            "Epoch 6/50\n",
            "\u001b[1m5/5\u001b[0m \u001b[32m━━━━━━━━━━━━━━━━━━━━\u001b[0m\u001b[37m\u001b[0m \u001b[1m16s\u001b[0m 1s/step - accuracy: 0.8124 - loss: 0.6659 - val_accuracy: 0.8182 - val_loss: 0.6786\n",
            "Epoch 7/50\n",
            "\u001b[1m5/5\u001b[0m \u001b[32m━━━━━━━━━━━━━━━━━━━━\u001b[0m\u001b[37m\u001b[0m \u001b[1m14s\u001b[0m 1s/step - accuracy: 0.8317 - loss: 0.5991 - val_accuracy: 0.8182 - val_loss: 0.6745\n",
            "Epoch 8/50\n",
            "\u001b[1m5/5\u001b[0m \u001b[32m━━━━━━━━━━━━━━━━━━━━\u001b[0m\u001b[37m\u001b[0m \u001b[1m21s\u001b[0m 1s/step - accuracy: 0.8146 - loss: 0.5718 - val_accuracy: 0.8182 - val_loss: 0.6790\n",
            "Epoch 9/50\n",
            "\u001b[1m5/5\u001b[0m \u001b[32m━━━━━━━━━━━━━━━━━━━━\u001b[0m\u001b[37m\u001b[0m \u001b[1m14s\u001b[0m 1s/step - accuracy: 0.8580 - loss: 0.5088 - val_accuracy: 0.8182 - val_loss: 0.7497\n",
            "Epoch 10/50\n",
            "\u001b[1m5/5\u001b[0m \u001b[32m━━━━━━━━━━━━━━━━━━━━\u001b[0m\u001b[37m\u001b[0m \u001b[1m14s\u001b[0m 1s/step - accuracy: 0.7491 - loss: 0.5863 - val_accuracy: 0.8182 - val_loss: 0.6704\n",
            "Epoch 11/50\n",
            "\u001b[1m5/5\u001b[0m \u001b[32m━━━━━━━━━━━━━━━━━━━━\u001b[0m\u001b[37m\u001b[0m \u001b[1m19s\u001b[0m 3s/step - accuracy: 0.7847 - loss: 0.4663 - val_accuracy: 0.8182 - val_loss: 0.7325\n",
            "Epoch 12/50\n",
            "\u001b[1m5/5\u001b[0m \u001b[32m━━━━━━━━━━━━━━━━━━━━\u001b[0m\u001b[37m\u001b[0m \u001b[1m17s\u001b[0m 1s/step - accuracy: 0.8269 - loss: 0.3876 - val_accuracy: 0.8333 - val_loss: 0.8387\n",
            "Epoch 13/50\n",
            "\u001b[1m5/5\u001b[0m \u001b[32m━━━━━━━━━━━━━━━━━━━━\u001b[0m\u001b[37m\u001b[0m \u001b[1m14s\u001b[0m 1s/step - accuracy: 0.8452 - loss: 0.3727 - val_accuracy: 0.8182 - val_loss: 0.9547\n",
            "Epoch 14/50\n",
            "\u001b[1m5/5\u001b[0m \u001b[32m━━━━━━━━━━━━━━━━━━━━\u001b[0m\u001b[37m\u001b[0m \u001b[1m14s\u001b[0m 1s/step - accuracy: 0.8503 - loss: 0.3346 - val_accuracy: 0.7727 - val_loss: 1.0390\n",
            "Epoch 15/50\n",
            "\u001b[1m5/5\u001b[0m \u001b[32m━━━━━━━━━━━━━━━━━━━━\u001b[0m\u001b[37m\u001b[0m \u001b[1m15s\u001b[0m 1s/step - accuracy: 0.8781 - loss: 0.3114 - val_accuracy: 0.8333 - val_loss: 1.2641\n"
          ]
        }
      ],
      "source": [
        "from tensorflow.keras.callbacks import EarlyStopping\n",
        "\n",
        "early_stopping = EarlyStopping(monitor='val_loss', patience=5, restore_best_weights=True)\n",
        "\n",
        "history = model.fit(\n",
        "    train_generator,\n",
        "    epochs=50,\n",
        "    validation_data=test_generator,\n",
        "    callbacks=[early_stopping]\n",
        ")"
      ]
    },
    {
      "cell_type": "code",
      "execution_count": 29,
      "metadata": {
        "colab": {
          "base_uri": "https://localhost:8080/"
        },
        "id": "vP8JaI-GzwXv",
        "outputId": "fb656b06-20e3-413a-c24b-1b370635da68"
      },
      "outputs": [
        {
          "name": "stdout",
          "output_type": "stream",
          "text": [
            "\u001b[1m3/3\u001b[0m \u001b[32m━━━━━━━━━━━━━━━━━━━━\u001b[0m\u001b[37m\u001b[0m \u001b[1m5s\u001b[0m 2s/step - accuracy: 0.8271 - loss: 0.6499\n",
            "Test accuracy: 0.8181818127632141\n"
          ]
        }
      ],
      "source": [
        "test_loss, test_acc = model.evaluate(test_generator)\n",
        "print(f\"Test accuracy: {test_acc}\")"
      ]
    },
    {
      "cell_type": "code",
      "execution_count": 30,
      "metadata": {
        "colab": {
          "base_uri": "https://localhost:8080/"
        },
        "id": "ObVFbpNXsgrV",
        "outputId": "cb63528f-3597-4d69-d214-5794079560b4"
      },
      "outputs": [
        {
          "name": "stdout",
          "output_type": "stream",
          "text": [
            "Epoch 1/50\n",
            "\u001b[1m5/5\u001b[0m \u001b[32m━━━━━━━━━━━━━━━━━━━━\u001b[0m\u001b[37m\u001b[0m \u001b[1m18s\u001b[0m 2s/step - accuracy: 0.8312 - loss: 0.4338 - val_accuracy: 0.8182 - val_loss: 0.7366 - learning_rate: 0.0010\n",
            "Epoch 2/50\n",
            "\u001b[1m5/5\u001b[0m \u001b[32m━━━━━━━━━━━━━━━━━━━━\u001b[0m\u001b[37m\u001b[0m \u001b[1m17s\u001b[0m 1s/step - accuracy: 0.8164 - loss: 0.4061 - val_accuracy: 0.8182 - val_loss: 0.8452 - learning_rate: 0.0010\n",
            "Epoch 3/50\n",
            "\u001b[1m5/5\u001b[0m \u001b[32m━━━━━━━━━━━━━━━━━━━━\u001b[0m\u001b[37m\u001b[0m \u001b[1m14s\u001b[0m 1s/step - accuracy: 0.8732 - loss: 0.3571 - val_accuracy: 0.8182 - val_loss: 0.9234 - learning_rate: 0.0010\n",
            "Epoch 4/50\n",
            "\u001b[1m5/5\u001b[0m \u001b[32m━━━━━━━━━━━━━━━━━━━━\u001b[0m\u001b[37m\u001b[0m \u001b[1m20s\u001b[0m 1s/step - accuracy: 0.8578 - loss: 0.3284 - val_accuracy: 0.8182 - val_loss: 1.0048 - learning_rate: 0.0010\n",
            "Epoch 5/50\n",
            "\u001b[1m5/5\u001b[0m \u001b[32m━━━━━━━━━━━━━━━━━━━━\u001b[0m\u001b[37m\u001b[0m \u001b[1m21s\u001b[0m 1s/step - accuracy: 0.8841 - loss: 0.3017 - val_accuracy: 0.8333 - val_loss: 1.0121 - learning_rate: 1.0000e-04\n"
          ]
        }
      ],
      "source": [
        "from tensorflow.keras.callbacks import ReduceLROnPlateau\n",
        "\n",
        "lr_scheduler = ReduceLROnPlateau(monitor='val_loss', factor=0.1, patience=3, min_lr=0.00001)\n",
        "\n",
        "history = model.fit(\n",
        "    train_generator,\n",
        "    epochs=50,\n",
        "    validation_data=test_generator,\n",
        "    callbacks=[early_stopping, lr_scheduler]\n",
        ")"
      ]
    },
    {
      "cell_type": "code",
      "execution_count": 31,
      "metadata": {
        "colab": {
          "base_uri": "https://localhost:8080/"
        },
        "id": "itCRhHaQz2-m",
        "outputId": "4d136217-5e0d-45a5-9139-004e2d2cd1b9"
      },
      "outputs": [
        {
          "name": "stdout",
          "output_type": "stream",
          "text": [
            "\u001b[1m3/3\u001b[0m \u001b[32m━━━━━━━━━━━━━━━━━━━━\u001b[0m\u001b[37m\u001b[0m \u001b[1m4s\u001b[0m 1s/step - accuracy: 0.8349 - loss: 0.6960\n",
            "Test accuracy: 0.8181818127632141\n"
          ]
        }
      ],
      "source": [
        "test_loss, test_acc = model.evaluate(test_generator)\n",
        "print(f\"Test accuracy: {test_acc}\")"
      ]
    },
    {
      "cell_type": "code",
      "execution_count": null,
      "metadata": {
        "id": "voHXpwJ6yz6B"
      },
      "outputs": [],
      "source": [
        "# model = models.Sequential([\n",
        "#     layers.Conv2D(32, (3, 3), activation='relu', input_shape=(224, 224, 3)),\n",
        "#     layers.BatchNormalization(),\n",
        "#     layers.MaxPooling2D((2, 2)),\n",
        "#     layers.Conv2D(64, (3, 3), activation='relu'),\n",
        "#     layers.BatchNormalization(),\n",
        "#     layers.MaxPooling2D((2, 2)),\n",
        "#     layers.Conv2D(128, (3, 3), activation='relu'),\n",
        "#     layers.BatchNormalization(),\n",
        "#     layers.MaxPooling2D((2, 2)),\n",
        "\n",
        "#     layers.Flatten(),\n",
        "#     layers.Dense(128, activation='relu'),\n",
        "#     layers.BatchNormalization(),\n",
        "#     layers.Dense(train_generator.num_classes, activation='softmax')\n",
        "# ])\n"
      ]
    },
    {
      "cell_type": "markdown",
      "metadata": {
        "id": "jbLaPjIVsWFK"
      },
      "source": [
        "## RESNET-50\n"
      ]
    },
    {
      "cell_type": "code",
      "execution_count": 32,
      "metadata": {
        "colab": {
          "base_uri": "https://localhost:8080/"
        },
        "id": "legE2M9Sy48d",
        "outputId": "d4e8d943-a2b9-4b68-a500-e2e0d3e1ad4d"
      },
      "outputs": [
        {
          "name": "stdout",
          "output_type": "stream",
          "text": [
            "Found 156 images belonging to 2 classes.\n",
            "Found 66 images belonging to 2 classes.\n"
          ]
        }
      ],
      "source": [
        "\n",
        "\n",
        "# Define the base directory\n",
        "b_dir = '/content/drive/My Drive/Bajaj-HackRX/datasets/Final_Data'\n",
        "train_datagen = ImageDataGenerator(rescale=1./255, validation_split=0.3)  # Normalize images\n",
        "\n",
        "\n",
        "# Training data generator\n",
        "train_generator = train_datagen.flow_from_directory(\n",
        "    b_dir,\n",
        "    target_size=(224, 224),  # ResNet50 input size\n",
        "    batch_size=32,\n",
        "    class_mode='binary',     # Binary classification\n",
        "    subset='training',\n",
        "    shuffle=True)\n",
        "\n",
        "# Validation data generator\n",
        "validation_generator = train_datagen.flow_from_directory(\n",
        "    b_dir,\n",
        "    target_size=(224, 224),\n",
        "    batch_size=32,\n",
        "    class_mode='binary',\n",
        "    subset='validation',\n",
        "    shuffle=False)\n"
      ]
    },
    {
      "cell_type": "code",
      "execution_count": 33,
      "metadata": {
        "colab": {
          "base_uri": "https://localhost:8080/"
        },
        "id": "03X1b6aUrkKc",
        "outputId": "eb649ce8-fd30-439c-eb32-178d347870f5"
      },
      "outputs": [
        {
          "name": "stdout",
          "output_type": "stream",
          "text": [
            "Downloading data from https://storage.googleapis.com/tensorflow/keras-applications/resnet/resnet50_weights_tf_dim_ordering_tf_kernels_notop.h5\n",
            "\u001b[1m94765736/94765736\u001b[0m \u001b[32m━━━━━━━━━━━━━━━━━━━━\u001b[0m\u001b[37m\u001b[0m \u001b[1m0s\u001b[0m 0us/step\n"
          ]
        }
      ],
      "source": [
        "base_model = ResNet50(weights='imagenet', include_top=False, input_shape=(224, 224, 3))\n",
        "base_model.trainable = False\n",
        "\n",
        "# Create a new model on top\n",
        "model = models.Sequential([\n",
        "    base_model,\n",
        "    layers.GlobalAveragePooling2D(),\n",
        "    layers.Dense(256, activation='relu'),\n",
        "    layers.Dropout(0.5),\n",
        "    layers.Dense(1, activation='sigmoid')  # For binary classification\n",
        "])\n"
      ]
    },
    {
      "cell_type": "code",
      "execution_count": 34,
      "metadata": {
        "id": "sqMzvLhssiVl"
      },
      "outputs": [],
      "source": [
        "model.compile(\n",
        "    optimizer=optimizers.Adam(learning_rate=1e-4),\n",
        "    loss='binary_crossentropy',\n",
        "    metrics=['accuracy', tf.keras.metrics.Precision(), tf.keras.metrics.Recall()]\n",
        ")\n"
      ]
    },
    {
      "cell_type": "code",
      "execution_count": 35,
      "metadata": {
        "colab": {
          "base_uri": "https://localhost:8080/"
        },
        "id": "J0zrsR00slx4",
        "outputId": "0dbb55aa-0f14-4f1a-8bd2-531126355d00"
      },
      "outputs": [
        {
          "name": "stdout",
          "output_type": "stream",
          "text": [
            "Epoch 1/10\n",
            "\u001b[1m5/5\u001b[0m \u001b[32m━━━━━━━━━━━━━━━━━━━━\u001b[0m\u001b[37m\u001b[0m \u001b[1m42s\u001b[0m 5s/step - accuracy: 0.7985 - loss: 0.5609 - precision: 0.8078 - recall: 0.9848 - val_accuracy: 0.8182 - val_loss: 0.4763 - val_precision: 0.8182 - val_recall: 1.0000\n",
            "Epoch 2/10\n",
            "\u001b[1m5/5\u001b[0m \u001b[32m━━━━━━━━━━━━━━━━━━━━\u001b[0m\u001b[37m\u001b[0m \u001b[1m20s\u001b[0m 1s/step - accuracy: 0.7696 - loss: 0.5777 - precision: 0.7814 - recall: 0.9771 - val_accuracy: 0.8182 - val_loss: 0.4749 - val_precision: 0.8182 - val_recall: 1.0000\n",
            "Epoch 3/10\n",
            "\u001b[1m5/5\u001b[0m \u001b[32m━━━━━━━━━━━━━━━━━━━━\u001b[0m\u001b[37m\u001b[0m \u001b[1m15s\u001b[0m 1s/step - accuracy: 0.7770 - loss: 0.5060 - precision: 0.7957 - recall: 0.9708 - val_accuracy: 0.8182 - val_loss: 0.4749 - val_precision: 0.8182 - val_recall: 1.0000\n",
            "Epoch 4/10\n",
            "\u001b[1m5/5\u001b[0m \u001b[32m━━━━━━━━━━━━━━━━━━━━\u001b[0m\u001b[37m\u001b[0m \u001b[1m14s\u001b[0m 1s/step - accuracy: 0.7812 - loss: 0.5658 - precision: 0.8209 - recall: 0.9428 - val_accuracy: 0.8182 - val_loss: 0.4781 - val_precision: 0.8182 - val_recall: 1.0000\n",
            "Epoch 5/10\n",
            "\u001b[1m5/5\u001b[0m \u001b[32m━━━━━━━━━━━━━━━━━━━━\u001b[0m\u001b[37m\u001b[0m \u001b[1m20s\u001b[0m 1s/step - accuracy: 0.7877 - loss: 0.5531 - precision: 0.8027 - recall: 0.9774 - val_accuracy: 0.8182 - val_loss: 0.4784 - val_precision: 0.8182 - val_recall: 1.0000\n",
            "Epoch 6/10\n",
            "\u001b[1m5/5\u001b[0m \u001b[32m━━━━━━━━━━━━━━━━━━━━\u001b[0m\u001b[37m\u001b[0m \u001b[1m14s\u001b[0m 1s/step - accuracy: 0.7844 - loss: 0.5820 - precision: 0.7906 - recall: 0.9904 - val_accuracy: 0.8182 - val_loss: 0.4755 - val_precision: 0.8182 - val_recall: 1.0000\n",
            "Epoch 7/10\n",
            "\u001b[1m5/5\u001b[0m \u001b[32m━━━━━━━━━━━━━━━━━━━━\u001b[0m\u001b[37m\u001b[0m \u001b[1m20s\u001b[0m 1s/step - accuracy: 0.8014 - loss: 0.5172 - precision: 0.8075 - recall: 0.9868 - val_accuracy: 0.8182 - val_loss: 0.4739 - val_precision: 0.8182 - val_recall: 1.0000\n",
            "Epoch 8/10\n",
            "\u001b[1m5/5\u001b[0m \u001b[32m━━━━━━━━━━━━━━━━━━━━\u001b[0m\u001b[37m\u001b[0m \u001b[1m20s\u001b[0m 1s/step - accuracy: 0.7965 - loss: 0.5260 - precision: 0.8059 - recall: 0.9856 - val_accuracy: 0.8182 - val_loss: 0.4740 - val_precision: 0.8182 - val_recall: 1.0000\n",
            "Epoch 9/10\n",
            "\u001b[1m5/5\u001b[0m \u001b[32m━━━━━━━━━━━━━━━━━━━━\u001b[0m\u001b[37m\u001b[0m \u001b[1m21s\u001b[0m 1s/step - accuracy: 0.7652 - loss: 0.5664 - precision: 0.7774 - recall: 0.9738 - val_accuracy: 0.8182 - val_loss: 0.4740 - val_precision: 0.8182 - val_recall: 1.0000\n",
            "Epoch 10/10\n",
            "\u001b[1m5/5\u001b[0m \u001b[32m━━━━━━━━━━━━━━━━━━━━\u001b[0m\u001b[37m\u001b[0m \u001b[1m20s\u001b[0m 1s/step - accuracy: 0.8196 - loss: 0.4964 - precision: 0.8333 - recall: 0.9734 - val_accuracy: 0.8182 - val_loss: 0.4751 - val_precision: 0.8182 - val_recall: 1.0000\n"
          ]
        }
      ],
      "source": [
        "history = model.fit(\n",
        "    train_generator,\n",
        "    epochs=10,\n",
        "    validation_data=validation_generator\n",
        ")\n"
      ]
    },
    {
      "cell_type": "code",
      "execution_count": 36,
      "metadata": {
        "colab": {
          "base_uri": "https://localhost:8080/"
        },
        "id": "202JpYY4ta0X",
        "outputId": "0ab92557-42d1-4a49-96c5-acb809b24cf6"
      },
      "outputs": [
        {
          "name": "stdout",
          "output_type": "stream",
          "text": [
            "\u001b[1m3/3\u001b[0m \u001b[32m━━━━━━━━━━━━━━━━━━━━\u001b[0m\u001b[37m\u001b[0m \u001b[1m4s\u001b[0m 1s/step - accuracy: 0.7685 - loss: 0.5558 - precision: 0.7685 - recall: 1.0000\n",
            "Validation Accuracy: 0.8181818127632141\n",
            "Validation Precision: 0.8181818127632141\n",
            "Validation Recall: 1.0\n"
          ]
        }
      ],
      "source": [
        "# Evaluate on validation data\n",
        "val_loss, val_accuracy, val_precision, val_recall = model.evaluate(validation_generator)\n",
        "print(f\"Validation Accuracy: {val_accuracy}\")\n",
        "print(f\"Validation Precision: {val_precision}\")\n",
        "print(f\"Validation Recall: {val_recall}\")\n"
      ]
    },
    {
      "cell_type": "code",
      "execution_count": 37,
      "metadata": {
        "colab": {
          "base_uri": "https://localhost:8080/"
        },
        "id": "sJ58AePFvkLR",
        "outputId": "0f0ca3ab-84d4-49d4-c3b6-99f396aca623"
      },
      "outputs": [
        {
          "name": "stdout",
          "output_type": "stream",
          "text": [
            "\u001b[1m5/5\u001b[0m \u001b[32m━━━━━━━━━━━━━━━━━━━━\u001b[0m\u001b[37m\u001b[0m \u001b[1m10s\u001b[0m 2s/step - accuracy: 0.8170 - loss: 0.4696 - precision: 0.8170 - recall: 1.0000\n",
            "Training Accuracy: 0.807692289352417\n",
            "Training Precision: 0.807692289352417\n",
            "Training Recall: 1.0\n"
          ]
        }
      ],
      "source": [
        "train_loss, train_accuracy, train_precision, train_recall = model.evaluate(train_generator)\n",
        "print(f\"Training Accuracy: {train_accuracy}\")\n",
        "print(f\"Training Precision: {train_precision}\")\n",
        "print(f\"Training Recall: {train_recall}\")\n"
      ]
    },
    {
      "cell_type": "code",
      "execution_count": 38,
      "metadata": {
        "colab": {
          "base_uri": "https://localhost:8080/",
          "height": 843
        },
        "id": "he_RNPl5sLyd",
        "outputId": "760c70b2-f383-4457-e45f-eaa2bf7aaaf7"
      },
      "outputs": [
        {
          "data": {
            "image/png": "[encoded data removed]",
            "text/plain": [
              "<Figure size 640x480 with 1 Axes>"
            ]
          },
          "metadata": {},
          "output_type": "display_data"
        },
        {
          "data": {
            "image/png": "[encoded data removed]",
            "text/plain": [
              "<Figure size 640x480 with 1 Axes>"
            ]
          },
          "metadata": {},
          "output_type": "display_data"
        }
      ],
      "source": [
        "import matplotlib.pyplot as plt\n",
        "\n",
        "plt.plot(history.history['accuracy'], label='Training Accuracy')\n",
        "plt.plot(history.history['val_accuracy'], label='Validation Accuracy')\n",
        "plt.legend()\n",
        "plt.show()\n",
        "\n",
        "\n",
        "plt.plot(history.history['loss'], label='Training Loss')\n",
        "plt.plot(history.history['val_loss'], label='Validation Loss')\n",
        "plt.legend()\n",
        "plt.show()\n"
      ]
    },
    {
      "cell_type": "code",
      "execution_count": 39,
      "metadata": {
        "colab": {
          "base_uri": "https://localhost:8080/"
        },
        "id": "HQ1WvbV6wFQw",
        "outputId": "4f95241c-a138-4c77-e749-97b3f5d2da16"
      },
      "outputs": [
        {
          "name": "stdout",
          "output_type": "stream",
          "text": [
            "[ 30 126]\n",
            "{'Final_Forged': 0, 'Final_Genuine': 1}\n"
          ]
        }
      ],
      "source": [
        "train_class_counts = train_generator.classes\n",
        "print(np.bincount(train_class_counts))\n",
        "print(train_generator.class_indices)\n"
      ]
    },
    {
      "cell_type": "markdown",
      "metadata": {
        "id": "ZHMOsUxa6ZsD"
      },
      "source": [
        "Since, The forged class was not augmented there is a heavy imbalance in model training. Now , two methods to subsidise the effect of this imbalance will be taken:\n",
        "1. Giving class weights to minority class\n",
        "2. Aggressive augmentation of the forged class\n"
      ]
    },
    {
      "cell_type": "markdown",
      "metadata": {
        "id": "zJ_xPAb-qKzk"
      },
      "source": [
        "## Approach 1: Giving class weights to minority class"
      ]
    },
    {
      "cell_type": "code",
      "execution_count": null,
      "metadata": {
        "colab": {
          "base_uri": "https://localhost:8080/"
        },
        "id": "kizkvOfonc40",
        "outputId": "b60a377e-ef8e-4587-a0e8-15e5aa920a43"
      },
      "outputs": [
        {
          "name": "stdout",
          "output_type": "stream",
          "text": [
            "Epoch 1/20\n",
            "\u001b[1m5/5\u001b[0m \u001b[32m━━━━━━━━━━━━━━━━━━━━\u001b[0m\u001b[37m\u001b[0m \u001b[1m31s\u001b[0m 3s/step - accuracy: 0.7886 - loss: 3.2968 - precision: 0.8137 - recall: 0.9621 - val_accuracy: 0.8182 - val_loss: 0.5359 - val_precision: 0.8182 - val_recall: 1.0000\n",
            "Epoch 2/20\n",
            "\u001b[1m5/5\u001b[0m \u001b[32m━━━━━━━━━━━━━━━━━━━━\u001b[0m\u001b[37m\u001b[0m \u001b[1m28s\u001b[0m 1s/step - accuracy: 0.6329 - loss: 2.1743 - precision: 0.8107 - recall: 0.7175 - val_accuracy: 0.1818 - val_loss: 0.9412 - val_precision: 0.0000e+00 - val_recall: 0.0000e+00\n",
            "Epoch 3/20\n",
            "\u001b[1m5/5\u001b[0m \u001b[32m━━━━━━━━━━━━━━━━━━━━\u001b[0m\u001b[37m\u001b[0m \u001b[1m21s\u001b[0m 1s/step - accuracy: 0.3068 - loss: 1.3787 - precision: 0.8177 - recall: 0.1874 - val_accuracy: 0.1818 - val_loss: 1.5347 - val_precision: 0.0000e+00 - val_recall: 0.0000e+00\n",
            "Epoch 4/20\n",
            "\u001b[1m5/5\u001b[0m \u001b[32m━━━━━━━━━━━━━━━━━━━━\u001b[0m\u001b[37m\u001b[0m \u001b[1m14s\u001b[0m 1s/step - accuracy: 0.2301 - loss: 1.3097 - precision: 0.7222 - recall: 0.0334 - val_accuracy: 0.1818 - val_loss: 1.9457 - val_precision: 0.0000e+00 - val_recall: 0.0000e+00\n",
            "Epoch 5/20\n",
            "\u001b[1m1/5\u001b[0m \u001b[32m━━━━\u001b[0m\u001b[37m━━━━━━━━━━━━━━━━\u001b[0m \u001b[1m35s\u001b[0m 9s/step - accuracy: 0.2500 - loss: 1.3226 - precision: 0.0000e+00 - recall: 0.0000e+00"
          ]
        }
      ],
      "source": [
        "from tensorflow.keras.callbacks import EarlyStopping\n",
        "\n",
        "class_weights = {0: len(train_generator.classes)/15, 1: len(train_generator.classes)/258}\n",
        "\n",
        "\n",
        "early_stopping = EarlyStopping(\n",
        "    monitor='val_loss',\n",
        "    patience=5,\n",
        "    restore_best_weights=True\n",
        ")\n",
        "\n",
        "# Training the model with class weights and early stopping\n",
        "history_weighted = model.fit(\n",
        "    train_generator,\n",
        "    epochs=20,\n",
        "    validation_data=validation_generator,\n",
        "    class_weight=class_weights,\n",
        "    callbacks=[early_stopping]\n",
        ")\n",
        "\n",
        "\n"
      ]
    },
    {
      "cell_type": "code",
      "execution_count": null,
      "metadata": {
        "colab": {
          "base_uri": "https://localhost:8080/"
        },
        "id": "45dYloNwqCDw",
        "outputId": "b789a6ed-4321-4470-ecf6-1de51e08a761"
      },
      "outputs": [
        {
          "name": "stdout",
          "output_type": "stream",
          "text": [
            "\u001b[1m4/4\u001b[0m \u001b[32m━━━━━━━━━━━━━━━━━━━━\u001b[0m\u001b[37m\u001b[0m \u001b[1m4s\u001b[0m 943ms/step - accuracy: 0.9106 - loss: 0.3992 - precision: 0.9106 - recall: 1.0000\n",
            "Class Weighting - Validation Accuracy: 0.9482758641242981\n",
            "Class Weighting - Validation Precision: 0.9482758641242981\n",
            "Class Weighting - Validation Recall: 1.0\n"
          ]
        }
      ],
      "source": [
        "# Evaluate the model with class weights\n",
        "val_loss_weighted, val_accuracy_weighted, val_precision_weighted, val_recall_weighted = model.evaluate(validation_generator)\n",
        "print(f\"Class Weighting - Validation Accuracy: {val_accuracy_weighted}\")\n",
        "print(f\"Class Weighting - Validation Precision: {val_precision_weighted}\")\n",
        "print(f\"Class Weighting - Validation Recall: {val_recall_weighted}\")"
      ]
    },
    {
      "cell_type": "code",
      "execution_count": null,
      "metadata": {
        "colab": {
          "base_uri": "https://localhost:8080/"
        },
        "id": "cZ_KbmBdq_DP",
        "outputId": "9072625c-4af3-48f2-82b2-4e7d61d5164f"
      },
      "outputs": [
        {
          "name": "stdout",
          "output_type": "stream",
          "text": [
            "Epoch 1/20\n",
            "\u001b[1m9/9\u001b[0m \u001b[32m━━━━━━━━━━━━━━━━━━━━\u001b[0m\u001b[37m\u001b[0m \u001b[1m24s\u001b[0m 1s/step - accuracy: 0.8280 - loss: 1.3070 - precision: 0.9648 - recall: 0.8536 - val_accuracy: 0.9483 - val_loss: 0.3875 - val_precision: 0.9483 - val_recall: 1.0000\n",
            "Epoch 2/20\n",
            "\u001b[1m9/9\u001b[0m \u001b[32m━━━━━━━━━━━━━━━━━━━━\u001b[0m\u001b[37m\u001b[0m \u001b[1m44s\u001b[0m 2s/step - accuracy: 0.7540 - loss: 1.5274 - precision: 0.9483 - recall: 0.7849 - val_accuracy: 0.9483 - val_loss: 0.5297 - val_precision: 0.9483 - val_recall: 1.0000\n",
            "Epoch 3/20\n",
            "\u001b[1m9/9\u001b[0m \u001b[32m━━━━━━━━━━━━━━━━━━━━\u001b[0m\u001b[37m\u001b[0m \u001b[1m36s\u001b[0m 937ms/step - accuracy: 0.6228 - loss: 1.8714 - precision: 0.9286 - recall: 0.6502 - val_accuracy: 0.2500 - val_loss: 0.7211 - val_precision: 1.0000 - val_recall: 0.2091\n",
            "Epoch 4/20\n",
            "\u001b[1m9/9\u001b[0m \u001b[32m━━━━━━━━━━━━━━━━━━━━\u001b[0m\u001b[37m\u001b[0m \u001b[1m21s\u001b[0m 804ms/step - accuracy: 0.4424 - loss: 1.6588 - precision: 0.9325 - recall: 0.4411 - val_accuracy: 0.1293 - val_loss: 0.7587 - val_precision: 1.0000 - val_recall: 0.0818\n",
            "Epoch 5/20\n",
            "\u001b[1m9/9\u001b[0m \u001b[32m━━━━━━━━━━━━━━━━━━━━\u001b[0m\u001b[37m\u001b[0m \u001b[1m22s\u001b[0m 1s/step - accuracy: 0.3869 - loss: 1.7588 - precision: 0.9359 - recall: 0.3636 - val_accuracy: 0.3276 - val_loss: 0.7137 - val_precision: 1.0000 - val_recall: 0.2909\n",
            "Epoch 6/20\n",
            "\u001b[1m9/9\u001b[0m \u001b[32m━━━━━━━━━━━━━━━━━━━━\u001b[0m\u001b[37m\u001b[0m \u001b[1m42s\u001b[0m 1s/step - accuracy: 0.4761 - loss: 1.3366 - precision: 0.9704 - recall: 0.4633 - val_accuracy: 0.9483 - val_loss: 0.5934 - val_precision: 0.9483 - val_recall: 1.0000\n"
          ]
        }
      ],
      "source": [
        "\n",
        "\n",
        "early_stopping_2 = EarlyStopping(\n",
        "    monitor='val_accuracy',\n",
        "    patience=5,\n",
        "    restore_best_weights=True\n",
        ")\n",
        "\n",
        "# Training the model with class weights and early stopping\n",
        "history_weighted_2 = model.fit(\n",
        "    train_generator,\n",
        "    epochs=20,\n",
        "    validation_data=validation_generator,\n",
        "    class_weight=class_weights,\n",
        "    callbacks=[early_stopping_2]\n",
        ")\n",
        "\n",
        "\n"
      ]
    },
    {
      "cell_type": "markdown",
      "metadata": {
        "id": "6DjjJculqWaL"
      },
      "source": [
        "## Approach 2: Data Augmentation for Minority Class"
      ]
    },
    {
      "cell_type": "code",
      "execution_count": null,
      "metadata": {
        "colab": {
          "base_uri": "https://localhost:8080/"
        },
        "id": "XHJhrvxjqVgH",
        "outputId": "e1e2ae22-9bdd-4f0b-ad4f-e5cf6fcefdda"
      },
      "outputs": [
        {
          "name": "stdout",
          "output_type": "stream",
          "text": [
            "Found 273 images belonging to 2 classes.\n",
            "Found 0 images belonging to 0 classes.\n",
            "Found 0 images belonging to 0 classes.\n"
          ]
        }
      ],
      "source": [
        "genuine_datagen = ImageDataGenerator(\n",
        "    rescale=1./255,\n",
        "    validation_split=0.3\n",
        ")\n",
        "\n",
        "# Data augmentation for forged classes\n",
        "forged_datagen = ImageDataGenerator(\n",
        "    rescale=1./255,\n",
        "    rotation_range=30,\n",
        "    width_shift_range=0.2,\n",
        "    height_shift_range=0.2,\n",
        "    shear_range=0.2,\n",
        "    zoom_range=0.2,\n",
        "    horizontal_flip=True,\n",
        "    validation_split=0.3\n",
        ")\n",
        "\n",
        "# Generator for genuine images\n",
        "genuine_generator = genuine_datagen.flow_from_directory(\n",
        "    '/content/drive/My Drive/Bajaj-HackRX/datasets/Final_data/',\n",
        "    target_size=(224, 224),\n",
        "    batch_size=32,\n",
        "    class_mode='binary',\n",
        "    subset='training',\n",
        "    shuffle=True\n",
        ")\n",
        "\n",
        "# Generator for forged images (from both subfolders)\n",
        "forged_generator_type01 = forged_datagen.flow_from_directory(\n",
        "    '/content/drive/My Drive/Bajaj-HackRX/datasets/Final_data/preprocessed_forged/type01',\n",
        "    target_size=(224, 224),\n",
        "    batch_size=32,\n",
        "    class_mode='binary',\n",
        "    subset='training',\n",
        "    shuffle=True\n",
        ")\n",
        "\n",
        "forged_generator_type02 = forged_datagen.flow_from_directory(\n",
        "    '/content/drive/My Drive/Bajaj-HackRX/datasets/Final_data/preprocessed_forged/type02',\n",
        "    target_size=(224, 224),\n",
        "    batch_size=32,\n",
        "    class_mode='binary',\n",
        "    subset='training',\n",
        "    shuffle=True\n",
        ")\n"
      ]
    },
    {
      "cell_type": "code",
      "execution_count": null,
      "metadata": {
        "id": "VOi0e9M0qV_E"
      },
      "outputs": [],
      "source": [
        "import numpy as np\n",
        "\n",
        "def balanced_generator(genuine_gen, forged_gen1, forged_gen2, batch_size=32):\n",
        "    while True:\n",
        "        genuine_batch = next(genuine_gen)\n",
        "        forged_batch1 = next(forged_gen1)\n",
        "        forged_batch2 = next(forged_gen2)\n",
        "\n",
        "        # Combine the batches\n",
        "        combined_images = np.concatenate([genuine_batch[0], forged_batch1[0], forged_batch2[0]], axis=0)\n",
        "        combined_labels = np.concatenate([genuine_batch[1], forged_batch1[1], forged_batch2[1]], axis=0)\n",
        "\n",
        "        # Shuffle the combined data\n",
        "        indices = np.arange(combined_images.shape[0])\n",
        "        np.random.shuffle(indices)\n",
        "\n",
        "        yield combined_images[indices], combined_labels[indices]\n",
        "\n",
        "# Using balanced generator for training\n",
        "balanced_train_generator = balanced_generator(genuine_generator, forged_generator_type01, forged_generator_type02)\n",
        "\n",
        "# Training the model using the combined balanced generator\n",
        "history = model.fit(\n",
        "    balanced_train_generator,\n",
        "    steps_per_epoch=len(genuine_generator),\n",
        "    epochs=20,\n",
        "    validation_data=validation_generator\n",
        ")\n"
      ]
    }
  ],
  "metadata": {
    "accelerator": "GPU",
    "colab": {
      "gpuType": "T4",
      "include_colab_link": true,
      "provenance": []
    },
    "kernelspec": {
      "display_name": "Python 3",
      "name": "python3"
    },
    "language_info": {
      "codemirror_mode": {
        "name": "ipython",
        "version": 3
      },
      "file_extension": ".py",
      "mimetype": "text/x-python",
      "name": "python",
      "nbconvert_exporter": "python",
      "pygments_lexer": "ipython3",
      "version": "3.11.6"
    }
  },
  "nbformat": 4,
  "nbformat_minor": 0
}
